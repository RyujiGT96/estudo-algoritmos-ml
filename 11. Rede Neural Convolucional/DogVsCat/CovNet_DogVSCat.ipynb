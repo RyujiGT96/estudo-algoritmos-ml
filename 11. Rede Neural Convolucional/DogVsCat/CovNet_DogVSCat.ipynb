{
 "cells": [
  {
   "cell_type": "markdown",
   "metadata": {},
   "source": [
    "# Convolutional Neural Network"
   ]
  },
  {
   "cell_type": "markdown",
   "metadata": {},
   "source": [
    "### Um simples problema de visão computacional é proposto para ilustrar um classificador de imagens baseado uma rede neural convolucional. Será elaborado um modelo de rede neural convolucional capaz de distinguir imagens de cachorros e gatos. Para isso será utilizada uma base de dados contendo milhares de imagens de gatos e cachorros ([Kaggle Cats and Dogs Dataset](https://www.kaggle.com/c/dogs-vs-cats)), que pode ser obtida no site da [Microsoft](https://www.microsoft.com/en-us/download/details.aspx?id=54765), para o treinamento e teste da rede neural."
   ]
  },
  {
   "cell_type": "markdown",
   "metadata": {},
   "source": [
    "### Bibliotecas a serem utilizadas"
   ]
  },
  {
   "cell_type": "code",
   "execution_count": 1,
   "metadata": {},
   "outputs": [],
   "source": [
    "import os\n",
    "import cv2\n",
    "import numpy as np\n",
    "from tqdm import tqdm\n",
    "import torch\n",
    "import matplotlib.pyplot as plt\n",
    "import torch.nn as nn\n",
    "import torch.nn.functional as F\n",
    "import torch.optim as optim"
   ]
  },
  {
   "cell_type": "markdown",
   "metadata": {},
   "source": [
    "### Coleta e pré-processamento dos dados"
   ]
  },
  {
   "cell_type": "code",
   "execution_count": 2,
   "metadata": {},
   "outputs": [
    {
     "name": "stdout",
     "output_type": "stream",
     "text": [
      "tensor([1., 0.])\n"
     ]
    },
    {
     "data": {
      "image/png": "[encoded data removed]",
      "text/plain": [
       "<Figure size 432x288 with 1 Axes>"
      ]
     },
     "metadata": {
      "needs_background": "light"
     },
     "output_type": "display_data"
    }
   ],
   "source": [
    "REBUILD_DATA = False\n",
    "# classe para definição dos dados de treinamento\n",
    "class DogsVSCats():\n",
    "    IMG_SIZE = 50\n",
    "    CATS = \"PetImages/Cat\"\n",
    "    DOGS = \"PetImages/Dog\"\n",
    "    TESTING = \"PetImages/Testing\"\n",
    "    LABELS = {CATS: 0, DOGS: 1}\n",
    "    training_data = []\n",
    "    catcount = 0\n",
    "    dogcount = 0\n",
    "    def make_training_data(self):\n",
    "        for label in self.LABELS:\n",
    "            for f in tqdm(os.listdir(label)):\n",
    "                if \"jpg\" in f:\n",
    "                    try:\n",
    "                        path = os.path.join(label, f) # caminho para os dados\n",
    "                        img = cv2.imread(path, cv2.IMREAD_GRAYSCALE) # imagens RBG transformadas em imagens grayscale\n",
    "                        img = cv2.resize(img, (self.IMG_SIZE, self.IMG_SIZE)) # imagens serão 50x50 pixels\n",
    "                        self.training_data.append([np.array(img), np.eye(2)[self.LABELS[label]]]) # np.eye(2) -> identity matrix 2x2\n",
    "                        # contagem de amostras \n",
    "                        if label == self.CATS:\n",
    "                            self.catcount += 1\n",
    "                        elif label == self.DOGS:\n",
    "                            self.dogcount += 1\n",
    "                        \n",
    "                    except Exception as e:\n",
    "                        pass\n",
    "                    \n",
    "        np.random.shuffle(self.training_data) # embaralha as amostras\n",
    "        np.save('training_data.npy', self.training_data) # salva dados\n",
    "        print('Cats:', self.catcount) # número de amostras com gatos\n",
    "        print('Dogs', self.dogcount) # número de amostras com cachorros\n",
    "        \n",
    "if REBUILD_DATA:\n",
    "    dogsvcats = DogsVSCats()\n",
    "    dogsvcats.make_training_data()\n",
    "\n",
    "# dado de treinamento  \n",
    "training_data = np.load(\"training_data.npy\", allow_pickle = True)\n",
    "# dados de entrada armazenados em um tensor\n",
    "X = torch.Tensor([i[0] for i in training_data]).view(-1,50,50)\n",
    "# normalização dos pixels dos dados de entrada\n",
    "X = X/255.0 \n",
    "# respostas esperadas para os dados de entrada armazenados em um tensor\n",
    "y = torch.Tensor([i[1] for i in training_data])\n",
    "\n",
    "# exemplo de imagem\n",
    "plt.imshow(X[0], cmap='gray')\n",
    "print(y[0])"
   ]
  },
  {
   "cell_type": "markdown",
   "metadata": {},
   "source": [
    "### Divisão dos dados para treinamento e para teste"
   ]
  },
  {
   "cell_type": "code",
   "execution_count": 3,
   "metadata": {},
   "outputs": [
    {
     "name": "stdout",
     "output_type": "stream",
     "text": [
      "22452 2494\n"
     ]
    }
   ],
   "source": [
    "VAL_PCT = 0.1 # 10% dos dados serão utilizados para teste\n",
    "val_size = int(len(X)*VAL_PCT)\n",
    "# divisão\n",
    "# dados de treinamento\n",
    "train_X = X[:-val_size]\n",
    "train_y = y[:-val_size]\n",
    "# dados de teste\n",
    "test_X = X[-val_size:]\n",
    "test_y = y[-val_size:]\n",
    "print(len(train_X), len(test_X))"
   ]
  },
  {
   "cell_type": "markdown",
   "metadata": {},
   "source": [
    "### Implementação do modelo de rede convolucional a ser aplicada para o problema\n",
    "Opta-se pela implementação de uma rede neural de 3 camadas de convolução, uma camada de achatamento e uma camada de saída."
   ]
  },
  {
   "cell_type": "code",
   "execution_count": 8,
   "metadata": {},
   "outputs": [],
   "source": [
    "class Net(nn.Module):\n",
    "    def __init__(self):\n",
    "        super().__init__()\n",
    "        # camada 1 de convolução\n",
    "        self.conv1 = nn.Conv2d(1, 32, 5) # entrada: 1 imagem (50x50), 32 canais de saída, (5x5) kernel \n",
    "        # camada 2 de convolução\n",
    "        self.conv2 = nn.Conv2d(32, 64, 5) # 32 entradas, 64 canais de saída, (5x5) kernel\n",
    "        # camada 3 de convolução\n",
    "        self.conv3 = nn.Conv2d(64, 128, 5) # 64 entradas, 128 canais de saída, (5x5) kernel\n",
    "        \n",
    "        # descobre a dimensão da resposta da terceira camada de convolução\n",
    "        x = torch.randn(50,50).view(-1, 1, 50, 50)\n",
    "        self.flatten_x_len = int(len(self.convs(x)))\n",
    "        \n",
    "        \n",
    "        # camadas de unidades de processamento\n",
    "        self.fc1 = nn.Linear(self.flatten_x_len, 512) # camada com 512 unidades de processamento\n",
    "        self.fc2 = nn.Linear(512, 2) # camada com 2 unidades de saída (número de classes possíveis)\n",
    "     \n",
    "    # propagação forward nas camadas de convolução\n",
    "    # entre cada camada de convolução aplica-se a função max pooling com janela (2x2)\n",
    "    def convs(self, x):\n",
    "        # max pooling over 2x2\n",
    "        x = F.max_pool2d(F.relu(self.conv1(x)), (2,2)) # função max pooling com janela (2x2)\n",
    "        x = F.max_pool2d(F.relu(self.conv2(x)), (2,2)) # função max pooling com janela (2x2)\n",
    "        x = F.max_pool2d(F.relu(self.conv3(x)), (2,2)) # função max pooling com janela (2x2)\n",
    "        # resposta da terceira camada de convolução é achatada para classificação da amostra\n",
    "        x = torch.flatten(x) # flattening -> there is a torch.flatten(Tensor) function\n",
    "        return x\n",
    "    \n",
    "    # propagação forward na rede neural\n",
    "    def forward(self, x):\n",
    "        x = self.convs(x)\n",
    "        x = x.view(-1, self.flatten_x_len)\n",
    "        x = F.relu(self.fc1(x))\n",
    "        x = self.fc2(x) # output layer\n",
    "        return F.softmax(x, dim=1)"
   ]
  },
  {
   "cell_type": "markdown",
   "metadata": {},
   "source": [
    "Iniciação da rede neural convolucional         "
   ]
  },
  {
   "cell_type": "code",
   "execution_count": 9,
   "metadata": {},
   "outputs": [
    {
     "name": "stdout",
     "output_type": "stream",
     "text": [
      "Net(\n",
      "  (conv1): Conv2d(1, 32, kernel_size=(5, 5), stride=(1, 1))\n",
      "  (conv2): Conv2d(32, 64, kernel_size=(5, 5), stride=(1, 1))\n",
      "  (conv3): Conv2d(64, 128, kernel_size=(5, 5), stride=(1, 1))\n",
      "  (fc1): Linear(in_features=512, out_features=512, bias=True)\n",
      "  (fc2): Linear(in_features=512, out_features=2, bias=True)\n",
      ")\n"
     ]
    }
   ],
   "source": [
    "net = Net()\n",
    "print(net)"
   ]
  },
  {
   "cell_type": "markdown",
   "metadata": {},
   "source": [
    "Otimizador utilizado para treinamento da rede"
   ]
  },
  {
   "cell_type": "code",
   "execution_count": 10,
   "metadata": {},
   "outputs": [],
   "source": [
    "optimizer = optim.Adam(net.parameters(), lr=0.001) # opta-se por utilizar o algoritmo Adam"
   ]
  },
  {
   "cell_type": "markdown",
   "metadata": {},
   "source": [
    "Função erro para avaliar respostas geradas pela rede neural"
   ]
  },
  {
   "cell_type": "code",
   "execution_count": 11,
   "metadata": {},
   "outputs": [],
   "source": [
    "loss_function = nn.MSELoss() # opta-se por utilizar a função de erro quadrado médio (MSELoss)"
   ]
  },
  {
   "cell_type": "markdown",
   "metadata": {},
   "source": [
    "### Treinamento da rede neural"
   ]
  },
  {
   "cell_type": "code",
   "execution_count": 14,
   "metadata": {},
   "outputs": [
    {
     "name": "stderr",
     "output_type": "stream",
     "text": [
      "100%|████████████████████████████████████████| 225/225 [02:00<00:00,  1.86it/s]\n",
      "  0%|                                                  | 0/225 [00:00<?, ?it/s]"
     ]
    },
    {
     "name": "stdout",
     "output_type": "stream",
     "text": [
      "Epoch: 0. Loss: 0.196632519364357\n"
     ]
    },
    {
     "name": "stderr",
     "output_type": "stream",
     "text": [
      "100%|████████████████████████████████████████| 225/225 [01:59<00:00,  1.89it/s]\n",
      "  0%|                                                  | 0/225 [00:00<?, ?it/s]"
     ]
    },
    {
     "name": "stdout",
     "output_type": "stream",
     "text": [
      "Epoch: 1. Loss: 0.13888046145439148\n"
     ]
    },
    {
     "name": "stderr",
     "output_type": "stream",
     "text": [
      "100%|████████████████████████████████████████| 225/225 [01:57<00:00,  1.92it/s]\n"
     ]
    },
    {
     "name": "stdout",
     "output_type": "stream",
     "text": [
      "Epoch: 2. Loss: 0.10891798883676529\n"
     ]
    },
    {
     "data": {
      "image/png": "[encoded data removed]",
      "text/plain": [
       "<Figure size 432x288 with 1 Axes>"
      ]
     },
     "metadata": {
      "needs_background": "light"
     },
     "output_type": "display_data"
    }
   ],
   "source": [
    "BATCH_SIZE = 100 # tamanho das bateladas de amostras a serem utilizadas no treinamento\n",
    "EPOCHS = 3 # quantas passagens sobre todas as amostras de treinamento serão utilizadas\n",
    "loss_log = []\n",
    "for epoch in range(EPOCHS):\n",
    "    loss_epoch = []\n",
    "    for i in tqdm(range(0, len(train_X), BATCH_SIZE)): # iteração de passagens forward e backward\n",
    "        batch_X = train_X[i:i+BATCH_SIZE].view(-1,1,50,50) # batelada de dados de entrada\n",
    "        batch_y = train_y[i:i+BATCH_SIZE] # respostas esperadas para os dados de entrada\n",
    "        # zera os gradientes da rede neural\n",
    "        net.zero_grad()\n",
    "        # propagação forward\n",
    "        outputs = net(batch_X)\n",
    "        # cálculo dos erros das respostas geradas pela rede neural para amostras de entradas\n",
    "        loss = loss_function(outputs, batch_y)\n",
    "        # propagação backward\n",
    "        loss.backward()\n",
    "        # ajuste dos parâmetros da rede neural \n",
    "        optimizer.step()\n",
    "        # armazenamento dos erros das bateladas\n",
    "        loss_epoch.append(loss.item())\n",
    "    # armazenamento dos erros da passagem\n",
    "    loss_log.append(sum(loss_epoch))  \n",
    "    print(f\"Epoch: {epoch}. Loss: {loss}\")\n",
    "# plot função erro x epochs\n",
    "plt.plot(range(EPOCHS), loss_log)\n",
    "plt.xlabel(\"Epochs\")\n",
    "plt.ylabel(\"Loss\")\n",
    "plt.show()"
   ]
  },
  {
   "cell_type": "markdown",
   "metadata": {},
   "source": [
    "### Teste da rede neural "
   ]
  },
  {
   "cell_type": "code",
   "execution_count": 15,
   "metadata": {},
   "outputs": [
    {
     "name": "stderr",
     "output_type": "stream",
     "text": [
      "100%|█████████████████████████████████████| 2494/2494 [00:23<00:00, 108.21it/s]"
     ]
    },
    {
     "name": "stdout",
     "output_type": "stream",
     "text": [
      "Accuracy:  0.75\n"
     ]
    },
    {
     "name": "stderr",
     "output_type": "stream",
     "text": [
      "\n"
     ]
    }
   ],
   "source": [
    "correct = 0\n",
    "total = 0\n",
    "with torch.no_grad(): # desativa o cálculo de gradientes\n",
    "    for i in tqdm(range(len(test_X))): # propagação dos dados de teste\n",
    "        real_class = torch.argmax(test_y[i])\n",
    "        net_out = net(test_X[i].view(-1,1,50,50))[0] # repostas geradas para os dados teste\n",
    "        predicted_class = torch.argmax(net_out)\n",
    "        # avaliação da acurácia do modelo\n",
    "        if predicted_class == real_class:\n",
    "            correct += 1\n",
    "        total += 1\n",
    "print(\"Accuracy: \", round(correct/total, 3))"
   ]
  },
  {
   "cell_type": "markdown",
   "metadata": {},
   "source": [
    "### Exemplo de classificação"
   ]
  },
  {
   "cell_type": "code",
   "execution_count": 16,
   "metadata": {},
   "outputs": [
    {
     "name": "stdout",
     "output_type": "stream",
     "text": [
      "tensor([0.0683, 0.9317], grad_fn=<SelectBackward>)\n"
     ]
    },
    {
     "data": {
      "image/png": "[encoded data removed]",
      "text/plain": [
       "<Figure size 432x288 with 1 Axes>"
      ]
     },
     "metadata": {
      "needs_background": "light"
     },
     "output_type": "display_data"
    }
   ],
   "source": [
    "plt.imshow(test_X[0], cmap='gray')\n",
    "print(net(test_X[0].view(-1,1,50,50))[0])"
   ]
  },
  {
   "cell_type": "code",
   "execution_count": 17,
   "metadata": {},
   "outputs": [
    {
     "name": "stdout",
     "output_type": "stream",
     "text": [
      "tensor([0.0856, 0.9144], grad_fn=<SelectBackward>)\n"
     ]
    },
    {
     "data": {
      "image/png": "[encoded data removed]",
      "text/plain": [
       "<Figure size 432x288 with 1 Axes>"
      ]
     },
     "metadata": {
      "needs_background": "light"
     },
     "output_type": "display_data"
    }
   ],
   "source": [
    "plt.imshow(test_X[100], cmap='gray')\n",
    "print(net(test_X[100].view(-1,1,50,50))[0])"
   ]
  },
  {
   "cell_type": "code",
   "execution_count": 18,
   "metadata": {},
   "outputs": [
    {
     "name": "stdout",
     "output_type": "stream",
     "text": [
      "tensor([0.7943, 0.2057], grad_fn=<SelectBackward>)\n"
     ]
    },
    {
     "data": {
      "image/png": "[encoded data removed]",
      "text/plain": [
       "<Figure size 432x288 with 1 Axes>"
      ]
     },
     "metadata": {
      "needs_background": "light"
     },
     "output_type": "display_data"
    }
   ],
   "source": [
    "plt.imshow(test_X[200], cmap='gray')\n",
    "print(net(test_X[200].view(-1,1,50,50))[0])"
   ]
  },
  {
   "cell_type": "code",
   "execution_count": null,
   "metadata": {},
   "outputs": [],
   "source": []
  }
 ],
 "metadata": {
  "kernelspec": {
   "display_name": "Python 3",
   "language": "python",
   "name": "python3"
  },
  "language_info": {
   "codemirror_mode": {
    "name": "ipython",
    "version": 3
   },
   "file_extension": ".py",
   "mimetype": "text/x-python",
   "name": "python",
   "nbconvert_exporter": "python",
   "pygments_lexer": "ipython3",
   "version": "3.6.5"
  }
 },
 "nbformat": 4,
 "nbformat_minor": 4
}
