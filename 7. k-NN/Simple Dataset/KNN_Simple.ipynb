{
 "cells": [
  {
   "cell_type": "markdown",
   "metadata": {},
   "source": [
    "# K-Nearest Neighbors (KNN)"
   ]
  },
  {
   "cell_type": "markdown",
   "metadata": {},
   "source": [
    "### É proposto a solução de um simples problema de classificação utilizando o algoritmo KNN. Para esse problema é utilizado uma simples base de dados gerada manualmente."
   ]
  },
  {
   "cell_type": "markdown",
   "metadata": {},
   "source": [
    "### Bibliotecas a serem utilizadas"
   ]
  },
  {
   "cell_type": "code",
   "execution_count": 20,
   "metadata": {},
   "outputs": [],
   "source": [
    "import numpy as np\n",
    "import matplotlib.pyplot as plt\n",
    "from matplotlib import style\n",
    "import warnings\n",
    "from math import sqrt\n",
    "from collections import Counter\n",
    "style.use('fivethirtyeight')"
   ]
  },
  {
   "cell_type": "markdown",
   "metadata": {},
   "source": [
    "### Algoritmo K-Nearest Neighbors"
   ]
  },
  {
   "cell_type": "code",
   "execution_count": 21,
   "metadata": {},
   "outputs": [],
   "source": [
    "# Função para implementação do algoritmo\n",
    "def k_nearest_neighbors(data, predict, k=3):\n",
    "    # Wraning caso o valor de k não seja coerente\n",
    "    if len(data) >= k:\n",
    "        warnings.warn('k is set to a value less than total voting objects!')\n",
    "    distances = [] # Lista para armazenar valores de distância entre o dado de predição e todos os dados de treino\n",
    "    # Cálculo das distâncias Euclideanas entre o dado de predição e todos os dados de treino\n",
    "    for group in data:\n",
    "        for feature in data[group]:\n",
    "            euclidean_distance = np.linalg.norm(np.array(feature) - np.array(predict)) # Cálculo de distância Euclideana\n",
    "            distances.append([euclidean_distance, group])\n",
    "    # Computação dos votos dos k dados mais próximos do dado de predição\n",
    "    votes = [object[1] for object in sorted(distances)[:k]]\n",
    "    # Classe resultante da votação\n",
    "    vote_result = Counter(votes).most_common(1)[0][0]\n",
    "    return vote_result"
   ]
  },
  {
   "cell_type": "markdown",
   "metadata": {},
   "source": [
    "### Main()"
   ]
  },
  {
   "cell_type": "markdown",
   "metadata": {},
   "source": [
    "### Dados"
   ]
  },
  {
   "cell_type": "code",
   "execution_count": 24,
   "metadata": {},
   "outputs": [
    {
     "data": {
      "image/png": "[encoded data removed]",
      "text/plain": [
       "<Figure size 432x288 with 1 Axes>"
      ]
     },
     "metadata": {},
     "output_type": "display_data"
    }
   ],
   "source": [
    "# Geração dos dados a serem utilizados\n",
    "dataset = {'k': [[1, 2],[2, 3],[3, 1]], 'r':[[6, 5], [7, 7], [8, 6]]} # Base de dados com duas classes ('k' e 'r') e 6 pontos\n",
    "new_features = [5, 7] # Dado a ser classificado pelo algoritmo\n",
    "\n",
    "# Plotando os dados \n",
    "for classe in dataset:\n",
    "    for point in dataset[classe]:\n",
    "        plt.scatter(point[0], point[1], s=100, c=classe)\n",
    "plt.xlabel('x')\n",
    "plt.ylabel('y')\n",
    "plt.title('Dados')\n",
    "# Em uma linha: [[plt.scatter(point[0], point[1], s=100, c=classe) for point in dataset[classe]] for classe in dataset]\n",
    "\n",
    "# Plotando dado a ser classificado\n",
    "plt.scatter(new_features[0], new_features[1], s=100, c='b', label = 'Dado a ser classificado')\n",
    "plt.xlabel('x')\n",
    "plt.ylabel('y')\n",
    "plt.legend()\n",
    "plt.show()"
   ]
  },
  {
   "cell_type": "markdown",
   "metadata": {},
   "source": [
    "### Classificação do dado"
   ]
  },
  {
   "cell_type": "code",
   "execution_count": 25,
   "metadata": {},
   "outputs": [
    {
     "name": "stdout",
     "output_type": "stream",
     "text": [
      "The class of the new featrure is r.\n"
     ]
    },
    {
     "data": {
      "image/png": "[encoded data removed]",
      "text/plain": [
       "<Figure size 432x288 with 1 Axes>"
      ]
     },
     "metadata": {},
     "output_type": "display_data"
    }
   ],
   "source": [
    "# Aplicação do algoritmo para dado a ser classificado\n",
    "result = k_nearest_neighbors(dataset, new_features)\n",
    "\n",
    "# Plotando o resultado\n",
    "print(f'The class of the new featrure is {result}.')\n",
    "for classe in dataset:\n",
    "    for point in dataset[classe]:\n",
    "        plt.scatter(point[0], point[1], s=100, c=classe)\n",
    "\n",
    "# Plotando o dado classificado\n",
    "plt.scatter(new_features[0], new_features[1], s=100, c=result)\n",
    "plt.show()"
   ]
  }
 ],
 "metadata": {
  "kernelspec": {
   "display_name": "Python 3",
   "language": "python",
   "name": "python3"
  },
  "language_info": {
   "codemirror_mode": {
    "name": "ipython",
    "version": 3
   },
   "file_extension": ".py",
   "mimetype": "text/x-python",
   "name": "python",
   "nbconvert_exporter": "python",
   "pygments_lexer": "ipython3",
   "version": "3.6.5"
  }
 },
 "nbformat": 4,
 "nbformat_minor": 4
}
