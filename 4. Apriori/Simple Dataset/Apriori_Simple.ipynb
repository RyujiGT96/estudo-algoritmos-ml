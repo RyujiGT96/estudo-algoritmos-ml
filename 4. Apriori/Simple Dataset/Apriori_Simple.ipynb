{
 "cells": [
  {
   "cell_type": "markdown",
   "metadata": {},
   "source": [
    "# Apriori"
   ]
  },
  {
   "cell_type": "markdown",
   "metadata": {},
   "source": [
    "### Será analisada uma base de dados gerada manualmente para ilustrar a geração de regras de associação de dados por meio do algoritmo Apriori."
   ]
  },
  {
   "cell_type": "markdown",
   "metadata": {},
   "source": [
    "### Bibliotecas a serem utilizadas"
   ]
  },
  {
   "cell_type": "code",
   "execution_count": 1,
   "metadata": {},
   "outputs": [],
   "source": [
    "from itertools import chain, combinations\n",
    "import operator"
   ]
  },
  {
   "cell_type": "markdown",
   "metadata": {},
   "source": [
    "### Função para obtenção de todas as combinações de items"
   ]
  },
  {
   "cell_type": "code",
   "execution_count": 2,
   "metadata": {},
   "outputs": [],
   "source": [
    "def subsets(itemset):\n",
    "    return chain(*[combinations(itemset, i + 1) for i, a in enumerate(itemset)])"
   ]
  },
  {
   "cell_type": "markdown",
   "metadata": {},
   "source": [
    "### Função para obtenção de combinações de k-itens"
   ]
  },
  {
   "cell_type": "code",
   "execution_count": 3,
   "metadata": {},
   "outputs": [],
   "source": [
    "def joinset(itemset, k):\n",
    "    joint_set = set()\n",
    "    for i in itemset:\n",
    "        for j in itemset:\n",
    "            if len(i.union(j)) == k:\n",
    "                joint_set.add(i.union(j))\n",
    "    return joint_set"
   ]
  },
  {
   "cell_type": "markdown",
   "metadata": {},
   "source": [
    "### Função para determinar os candidatos à itemsets frequentes"
   ]
  },
  {
   "cell_type": "code",
   "execution_count": 4,
   "metadata": {},
   "outputs": [],
   "source": [
    "def get_candidates(transaction_list, itemset, min_support):\n",
    "    candidates = dict()\n",
    "    k = 1\n",
    "    k_itemset = get_freq_itemset(transaction_list, itemset, min_support)\n",
    "    candidates.update(k_itemset)\n",
    "    k += 1\n",
    "    while True:\n",
    "        itemset = joinset(k_itemset, k)\n",
    "        k_itemset = get_freq_itemset(transaction_list, itemset, min_support)\n",
    "        if not k_itemset: # If None\n",
    "            break\n",
    "        candidates.update(k_itemset)\n",
    "        k += 1\n",
    "    return candidates"
   ]
  },
  {
   "cell_type": "markdown",
   "metadata": {},
   "source": [
    "### Função para determinar os itens mais frequentes de acordo com o valor de suporte"
   ]
  },
  {
   "cell_type": "code",
   "execution_count": 5,
   "metadata": {},
   "outputs": [],
   "source": [
    "def get_freq_itemset(transaction_list, itemset, min_support):\n",
    "    len_transaction_list = len(transaction_list)\n",
    "    freq_itemsets = dict()\n",
    "    for item in itemset:\n",
    "        freq_itemsets[item] = 0\n",
    "        for row in transaction_list:\n",
    "            if item.issubset(row):\n",
    "                freq_itemsets[item] += 1\n",
    "        freq_itemsets[item] = freq_itemsets[item] / len_transaction_list\n",
    "    relevant_itemsets = dict()\n",
    "    for item, support in freq_itemsets.items():\n",
    "        if support >= min_support:\n",
    "            relevant_itemsets[item] = support\n",
    "    return relevant_itemsets"
   ]
  },
  {
   "cell_type": "markdown",
   "metadata": {},
   "source": [
    "### Construção da lista de itemsets e transações"
   ]
  },
  {
   "cell_type": "code",
   "execution_count": 6,
   "metadata": {},
   "outputs": [],
   "source": [
    "def itemset_from_data(data):\n",
    "    itemset = set()\n",
    "    transaction_list = list()\n",
    "    for row in data:\n",
    "        transaction_list.append(frozenset(row))\n",
    "        for item in row:\n",
    "            if item not in itemset:\n",
    "                itemset.add(frozenset([item]))\n",
    "    return itemset, transaction_list"
   ]
  },
  {
   "cell_type": "markdown",
   "metadata": {},
   "source": [
    "### Algoritmo Apriori"
   ]
  },
  {
   "cell_type": "code",
   "execution_count": 7,
   "metadata": {},
   "outputs": [],
   "source": [
    "def apriori(data, min_support, min_confidence):\n",
    "    # Lista de item sets e transações\n",
    "    itemset, transaction_list = itemset_from_data(data)\n",
    "    print('\\n')   \n",
    "    print(f'Item Sets: \\n \\n{list(itemset)}')\n",
    "    print('\\n')   \n",
    "    print(f'Transactions: \\n \\n{list(transaction_list)}')\n",
    "\n",
    "    # Gerar candidatos\n",
    "    candidates = get_candidates(transaction_list, itemset, min_support)\n",
    "   \n",
    "    rules = list()\n",
    "    for sets in candidates.keys():\n",
    "        if len(sets) > 1:\n",
    "            for subset in subsets(sets):\n",
    "                item = sets.difference(subset)\n",
    "                if item: # If not None\n",
    "                    subset = frozenset(subset)\n",
    "                    subset_item = subset | item  # União de sets\n",
    "                    confidence = float(candidates[subset_item]) / candidates[subset]\n",
    "                    if confidence >= min_confidence:\n",
    "                        rules.append((subset, item, confidence))\n",
    "    return rules, candidates"
   ]
  },
  {
   "cell_type": "markdown",
   "metadata": {},
   "source": [
    "### Função para impressão dos resultados"
   ]
  },
  {
   "cell_type": "code",
   "execution_count": 8,
   "metadata": {},
   "outputs": [],
   "source": [
    "def print_report(rules, candidates):\n",
    "    print('\\n')\n",
    "    print('---Frequent Itemsets---')\n",
    "    print('[Itemset] | [Support]')\n",
    "    sorted_candidates = sorted(candidates.items(), key=operator.itemgetter(1))\n",
    "    for candidate in sorted_candidates:\n",
    "        print(f'{tuple(candidate[0])} : {round(candidate[1], 4)}')\n",
    "\n",
    "    print('\\n')\n",
    "    print('---Rules---')\n",
    "    sorted_rules = sorted(rules, key=lambda s : s[2])\n",
    "    print('[Rule] | [Confidence]')\n",
    "    for rule in sorted_rules:\n",
    "         print(f'{tuple(rule[0])} => {tuple(rule[1])} : {round(rule[2], 4)}')"
   ]
  },
  {
   "cell_type": "markdown",
   "metadata": {},
   "source": [
    "### Função para leitura de dados csv"
   ]
  },
  {
   "cell_type": "code",
   "execution_count": 9,
   "metadata": {},
   "outputs": [],
   "source": [
    "def get_csv_data(filename):\n",
    "    data = []\n",
    "    f = open(filename, 'r')\n",
    "    csv_data = f.read()\n",
    "    rows = csv_data.strip().split('\\n')\n",
    "    for row in rows:\n",
    "        split_row = row.strip().split(',')\n",
    "        data.append(split_row)\n",
    "    return data"
   ]
  },
  {
   "cell_type": "markdown",
   "metadata": {},
   "source": [
    "### Main()"
   ]
  },
  {
   "cell_type": "code",
   "execution_count": 10,
   "metadata": {},
   "outputs": [
    {
     "name": "stdout",
     "output_type": "stream",
     "text": [
      "\n",
      "\n",
      "Leitura dos dados:\n",
      "[['Bread', 'Milk'], ['Bread', 'Diapers', 'Beer', 'Eggs'], ['Milk', 'Diapers', 'Beer', 'Cola'], ['Bread', 'Milk', 'Diapers', 'Beer'], ['Bread', 'Milk', 'Diapers', 'Cola'], ['Bread', 'Milk'], ['Bread', 'Cola', 'Beer', 'Milk'], ['Milk', 'Bread', 'Beer', 'Cola'], ['Bread', 'Milk', 'Diapers', 'Beer'], ['Bread', 'Beer', 'Diapers', 'Diapers']]\n",
      "\n",
      "\n"
     ]
    },
    {
     "name": "stdin",
     "output_type": "stream",
     "text": [
      "Minimum Support:  0.6\n",
      "Minimum Confindence:  0.7\n"
     ]
    },
    {
     "name": "stdout",
     "output_type": "stream",
     "text": [
      "\n",
      "\n",
      "Item Sets: \n",
      " \n",
      "[frozenset({'Eggs'}), frozenset({'Cola'}), frozenset({'Beer'}), frozenset({'Diapers'}), frozenset({'Milk'}), frozenset({'Bread'})]\n",
      "\n",
      "\n",
      "Transactions: \n",
      " \n",
      "[frozenset({'Bread', 'Milk'}), frozenset({'Bread', 'Diapers', 'Eggs', 'Beer'}), frozenset({'Milk', 'Diapers', 'Cola', 'Beer'}), frozenset({'Bread', 'Milk', 'Beer', 'Diapers'}), frozenset({'Bread', 'Milk', 'Cola', 'Diapers'}), frozenset({'Bread', 'Milk'}), frozenset({'Bread', 'Beer', 'Cola', 'Milk'}), frozenset({'Milk', 'Beer', 'Cola', 'Bread'}), frozenset({'Bread', 'Milk', 'Beer', 'Diapers'}), frozenset({'Bread', 'Beer', 'Diapers'})]\n",
      "\n",
      "\n",
      "---Frequent Itemsets---\n",
      "[Itemset] | [Support]\n",
      "('Diapers',) : 0.6\n",
      "('Bread', 'Beer') : 0.6\n",
      "('Beer',) : 0.7\n",
      "('Milk', 'Bread') : 0.7\n",
      "('Milk',) : 0.8\n",
      "('Bread',) : 0.9\n",
      "\n",
      "\n",
      "---Rules---\n",
      "[Rule] | [Confidence]\n",
      "('Bread',) => ('Milk',) : 0.7778\n",
      "('Beer',) => ('Bread',) : 0.8571\n",
      "('Milk',) => ('Bread',) : 0.875\n"
     ]
    }
   ],
   "source": [
    "data = get_csv_data('simple_data.csv')\n",
    "print('\\n')\n",
    "print('Leitura dos dados:')\n",
    "print(data)\n",
    "\n",
    "print('\\n')\n",
    "min_support = float(input('Minimum Support: ')) # 0.6\n",
    "min_confidence = float(input('Minimum Confindence: ')) # 0.7\n",
    "\n",
    "rules, candidates = apriori(data, min_support, min_confidence)\n",
    "print_report(rules, candidates)"
   ]
  },
  {
   "cell_type": "code",
   "execution_count": null,
   "metadata": {},
   "outputs": [],
   "source": []
  }
 ],
 "metadata": {
  "kernelspec": {
   "display_name": "Python 3",
   "language": "python",
   "name": "python3"
  },
  "language_info": {
   "codemirror_mode": {
    "name": "ipython",
    "version": 3
   },
   "file_extension": ".py",
   "mimetype": "text/x-python",
   "name": "python",
   "nbconvert_exporter": "python",
   "pygments_lexer": "ipython3",
   "version": "3.6.5"
  }
 },
 "nbformat": 4,
 "nbformat_minor": 4
}
