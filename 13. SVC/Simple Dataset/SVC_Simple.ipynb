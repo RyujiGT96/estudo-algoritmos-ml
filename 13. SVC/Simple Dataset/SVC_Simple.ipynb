{
 "cells": [
  {
   "cell_type": "markdown",
   "metadata": {},
   "source": [
    "# Support Vector Clustering (SVC)"
   ]
  },
  {
   "cell_type": "markdown",
   "metadata": {},
   "source": [
    "### Uma simples base de dados brinquedo será utilizada para ilustrar a utilização do Support Vector Clustering para solução de um problema de clustering. A base de dados a ser analisada consiste na make_moons dataset gerada por meio da biblioteca [Scikit-learn](https://scikit-learn.org/stable/modules/generated/sklearn.datasets.make_moons.html)."
   ]
  },
  {
   "cell_type": "markdown",
   "metadata": {},
   "source": [
    "### Bibliotecas a serem utilizadas"
   ]
  },
  {
   "cell_type": "code",
   "execution_count": 1,
   "metadata": {},
   "outputs": [],
   "source": [
    "import numpy as np\n",
    "import matplotlib.pyplot as plt\n",
    "import cvxpy as cvx\n",
    "from tqdm import tqdm\n",
    "import sklearn.datasets\n",
    "import time\n",
    "plt.style.use('seaborn-whitegrid')"
   ]
  },
  {
   "cell_type": "markdown",
   "metadata": {},
   "source": [
    "### Algoritmo Support Vector Clustering (SVC)"
   ]
  },
  {
   "cell_type": "code",
   "execution_count": 2,
   "metadata": {},
   "outputs": [],
   "source": [
    "class SupportVectorClustering():\n",
    "\n",
    "    def __init__(self):\n",
    "        pass\n",
    "\n",
    "    def dataset(self, xs):\n",
    "        self.xs = xs # dataset\n",
    "        self.N = len(xs) # número de instâncias\n",
    "\n",
    "    def parameters(self, p=0.1, q=1):\n",
    "        self.q = q # parâmetro kernel width \n",
    "        self.p = p # fração de bounded support vectors (BSVs) \n",
    "        self.C = 1/(self.N*p) # constante de penalização (1/C >= 1)\n",
    "    \n",
    "    def kernel(self, x1, x2):\n",
    "        return np.exp(-self.q*np.sum((x1-x2)**2, axis=-1)) # gaussian kernel \n",
    "\n",
    "    def kernel_matrix(self):\n",
    "        self.km = np.zeros((self.N, self.N))\n",
    "        for i in range(self.N):\n",
    "            for j in range(self.N):\n",
    "                self.km[i,j] = self.kernel(self.xs[i], self.xs[j])\n",
    "\n",
    "    # método de otimização\n",
    "    def find_beta(self): \n",
    "        beta = cvx.Variable(self.N) # vetor de N dimensões\n",
    "        objective = cvx.Maximize(cvx.sum(beta) - cvx.quad_form(beta, self.km))  # função objetivo \n",
    "        constraints = [0 <= beta, beta <= self.C, cvx.sum(beta) == 1] # restrições \n",
    "        prob = cvx.Problem(objective, constraints) # definição do problema de otimização\n",
    "        prob.solve() # solução do problema de otimização\n",
    "        self.beta = beta.value # valores ótimos das variáveis beta \n",
    "\n",
    "    # cálculo do raio da hiperesfera\n",
    "    def r_func(self, x):\n",
    "        return self.kernel(x, x) - 2*np.sum([self.beta[i]*self.kernel(self.xs[i],x) for i in range(self.N)]) + self.beta.T@self.km@self.beta\n",
    "        # python > 3.5 @ matrix multiplication\n",
    "\n",
    "    # amostragem de segmentos entre dois pontos\n",
    "    def sample_segment(self,x1,x2,r,n=10):\n",
    "        adj = True\n",
    "        for i in range(n):\n",
    "            x = x1 + (x2-x1)*i/(n+1) \n",
    "            if self.r_func(x) > r:\n",
    "                adj = False\n",
    "                return adj\n",
    "        return adj\n",
    "    \n",
    "    # definição da matriz de adjacência\n",
    "    def cluster(self):\n",
    "        print('Calculating adjacency matrix... \\n')\n",
    "        svs_tmp = np.array(self.beta < self.C)*np.array(self.beta > 10**-8) # svs: 0 < beta < C\n",
    "        self.svs = np.where(svs_tmp == True)[0] # índice support vectors \n",
    "        bsvs_tmp = np.array(self.beta >= self.C) # bsvs: beta == C ??\n",
    "        self.bsvs = np.where(bsvs_tmp == True)[0] # índice bounded support vectors\n",
    "        self.r = np.mean([self.r_func(self.xs[i]) for i in self.svs[:5]]) # why 5??\n",
    "        self.adj = np.zeros((self.N, self.N)) # matriz adjacência\n",
    "        # checar adjacência entre pontos \n",
    "        for i in tqdm(range(self.N)):\n",
    "            if i not in self.bsvs:\n",
    "                for j in range(i, self.N):\n",
    "                    if j not in self.bsvs:\n",
    "                        self.adj[i,j] = self.adj[j,i] = self.sample_segment(self.xs[i],self.xs[j],self.r)\n",
    "    \n",
    "    # definição dos clusters\n",
    "    def return_clusters(self):\n",
    "        ids = list(range(self.N))\n",
    "        self.clusters = {}\n",
    "        num_clusters = 0\n",
    "        while ids:\n",
    "            num_clusters += 1\n",
    "            self.clusters[num_clusters] = []\n",
    "            curr_id = ids.pop(0)\n",
    "            queue = [curr_id]\n",
    "            while queue:\n",
    "                cid = queue.pop(0)\n",
    "                for i in ids:\n",
    "                    if self.adj[i,cid]:\n",
    "                        queue.append(i)\n",
    "                        ids.remove(i)\n",
    "                self.clusters[num_clusters].append(cid)\n",
    "        print('\\n')\n",
    "        print(f'The number of clusters is {num_clusters}')\n",
    "\n",
    "    def plot_clusters(self):\n",
    "        colors = {1:'r',2:'b',3:'g',4:'c',5:'m',6:'y',7:'k',8:'b',9:'c'}\n",
    "        for num_cluster, samples in self.clusters.items():\n",
    "            cluster = np.empty((len(samples), 2))\n",
    "            for idx, sample in enumerate(samples):\n",
    "                cluster[idx] = self.xs[sample]\n",
    "            plt.scatter(cluster[:,0], cluster[:,1], c = colors[num_cluster], label = num_cluster)\n",
    "        plt.legend()\n",
    "        plt.show()"
   ]
  },
  {
   "cell_type": "markdown",
   "metadata": {},
   "source": [
    "### Main()"
   ]
  },
  {
   "cell_type": "markdown",
   "metadata": {},
   "source": [
    "Importação dos dados"
   ]
  },
  {
   "cell_type": "code",
   "execution_count": 3,
   "metadata": {},
   "outputs": [],
   "source": [
    "def define_data(REBUILD_DATA = False, N_SAMPLES = 50):\n",
    "    if REBUILD_DATA == True:\n",
    "        ms = sklearn.datasets.make_moons(n_samples=N_SAMPLES,noise=0.1)[0]\n",
    "        np.save('simple_data.npy', ms)\n",
    "    X = np.load('simple_data.npy')\n",
    "    return X"
   ]
  },
  {
   "cell_type": "code",
   "execution_count": 4,
   "metadata": {},
   "outputs": [
    {
     "name": "stderr",
     "output_type": "stream",
     "text": [
      "  0%|                                                  | 0/100 [00:00<?, ?it/s]"
     ]
    },
    {
     "name": "stdout",
     "output_type": "stream",
     "text": [
      "Calculating adjacency matrix... \n",
      "\n"
     ]
    },
    {
     "name": "stderr",
     "output_type": "stream",
     "text": [
      "100%|████████████████████████████████████████| 100/100 [01:01<00:00,  1.61it/s]\n"
     ]
    },
    {
     "name": "stdout",
     "output_type": "stream",
     "text": [
      "\n",
      "\n",
      "The number of clusters is 2\n",
      "\n",
      "\n",
      "Processing Time: 63.47559475898743 seconds\n"
     ]
    },
    {
     "data": {
      "image/png": "[encoded data removed]",
      "text/plain": [
       "<Figure size 432x288 with 1 Axes>"
      ]
     },
     "metadata": {},
     "output_type": "display_data"
    }
   ],
   "source": [
    "# Database\n",
    "X = define_data(REBUILD_DATA = False, N_SAMPLES=50)\n",
    "# Iniciar algoritmo\n",
    "start_time = time.time()\n",
    "svc = SupportVectorClustering()\n",
    "svc.dataset(X) # inserção da database\n",
    "svc.parameters(p=0.002, q=6.5) # definição dos parâmetros\n",
    "svc.kernel_matrix() # cálculo da matriz kernel\n",
    "svc.find_beta() # solução do problema de otimização\n",
    "svc.cluster() # cálculo da matriz de adjacência\n",
    "svc.return_clusters() # define clusters\n",
    "print('\\n')\n",
    "print(f'Processing Time: {time.time() - start_time} seconds')\n",
    "svc.plot_clusters() # plot"
   ]
  },
  {
   "cell_type": "code",
   "execution_count": null,
   "metadata": {},
   "outputs": [],
   "source": []
  }
 ],
 "metadata": {
  "kernelspec": {
   "display_name": "Python 3",
   "language": "python",
   "name": "python3"
  },
  "language_info": {
   "codemirror_mode": {
    "name": "ipython",
    "version": 3
   },
   "file_extension": ".py",
   "mimetype": "text/x-python",
   "name": "python",
   "nbconvert_exporter": "python",
   "pygments_lexer": "ipython3",
   "version": "3.6.5"
  }
 },
 "nbformat": 4,
 "nbformat_minor": 4
}
