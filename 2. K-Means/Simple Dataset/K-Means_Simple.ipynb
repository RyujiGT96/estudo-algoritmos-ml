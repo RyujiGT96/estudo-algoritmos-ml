{
 "cells": [
  {
   "cell_type": "markdown",
   "metadata": {},
   "source": [
    "# K-Means (base de dados simples)"
   ]
  },
  {
   "cell_type": "markdown",
   "metadata": {},
   "source": [
    "### Base de dados gerada manualmente (data.csv)"
   ]
  },
  {
   "cell_type": "code",
   "execution_count": 1,
   "metadata": {},
   "outputs": [
    {
     "data": {
      "text/html": [
       "<div>\n",
       "<style scoped>\n",
       "    .dataframe tbody tr th:only-of-type {\n",
       "        vertical-align: middle;\n",
       "    }\n",
       "\n",
       "    .dataframe tbody tr th {\n",
       "        vertical-align: top;\n",
       "    }\n",
       "\n",
       "    .dataframe thead th {\n",
       "        text-align: right;\n",
       "    }\n",
       "</style>\n",
       "<table border=\"1\" class=\"dataframe\">\n",
       "  <thead>\n",
       "    <tr style=\"text-align: right;\">\n",
       "      <th></th>\n",
       "      <th>x</th>\n",
       "      <th>y</th>\n",
       "    </tr>\n",
       "  </thead>\n",
       "  <tbody>\n",
       "    <tr>\n",
       "      <th>0</th>\n",
       "      <td>1</td>\n",
       "      <td>2</td>\n",
       "    </tr>\n",
       "    <tr>\n",
       "      <th>1</th>\n",
       "      <td>2</td>\n",
       "      <td>1</td>\n",
       "    </tr>\n",
       "    <tr>\n",
       "      <th>2</th>\n",
       "      <td>1</td>\n",
       "      <td>1</td>\n",
       "    </tr>\n",
       "    <tr>\n",
       "      <th>3</th>\n",
       "      <td>2</td>\n",
       "      <td>2</td>\n",
       "    </tr>\n",
       "    <tr>\n",
       "      <th>4</th>\n",
       "      <td>8</td>\n",
       "      <td>9</td>\n",
       "    </tr>\n",
       "    <tr>\n",
       "      <th>5</th>\n",
       "      <td>9</td>\n",
       "      <td>8</td>\n",
       "    </tr>\n",
       "    <tr>\n",
       "      <th>6</th>\n",
       "      <td>9</td>\n",
       "      <td>9</td>\n",
       "    </tr>\n",
       "    <tr>\n",
       "      <th>7</th>\n",
       "      <td>8</td>\n",
       "      <td>8</td>\n",
       "    </tr>\n",
       "    <tr>\n",
       "      <th>8</th>\n",
       "      <td>1</td>\n",
       "      <td>15</td>\n",
       "    </tr>\n",
       "    <tr>\n",
       "      <th>9</th>\n",
       "      <td>2</td>\n",
       "      <td>15</td>\n",
       "    </tr>\n",
       "    <tr>\n",
       "      <th>10</th>\n",
       "      <td>1</td>\n",
       "      <td>14</td>\n",
       "    </tr>\n",
       "    <tr>\n",
       "      <th>11</th>\n",
       "      <td>2</td>\n",
       "      <td>14</td>\n",
       "    </tr>\n",
       "  </tbody>\n",
       "</table>\n",
       "</div>"
      ],
      "text/plain": [
       "    x   y\n",
       "0   1   2\n",
       "1   2   1\n",
       "2   1   1\n",
       "3   2   2\n",
       "4   8   9\n",
       "5   9   8\n",
       "6   9   9\n",
       "7   8   8\n",
       "8   1  15\n",
       "9   2  15\n",
       "10  1  14\n",
       "11  2  14"
      ]
     },
     "execution_count": 1,
     "metadata": {},
     "output_type": "execute_result"
    }
   ],
   "source": [
    "import pandas as pd\n",
    "data = pd.read_csv('data.csv', names = ['x', 'y'])\n",
    "data"
   ]
  },
  {
   "cell_type": "code",
   "execution_count": 2,
   "metadata": {},
   "outputs": [
    {
     "data": {
      "image/png": "[encoded data removed]",
      "text/plain": [
       "<Figure size 432x288 with 1 Axes>"
      ]
     },
     "metadata": {
      "needs_background": "light"
     },
     "output_type": "display_data"
    }
   ],
   "source": [
    "import matplotlib.pyplot as plt\n",
    "plt.scatter(data['x'].tolist(), data['y'].tolist(), marker ='s', c = 'k')\n",
    "plt.title('Dados')\n",
    "plt.xlabel('x')\n",
    "plt.ylabel('y')\n",
    "plt.show()"
   ]
  },
  {
   "cell_type": "markdown",
   "metadata": {},
   "source": [
    "### Bibliotecas a serem utilizadas"
   ]
  },
  {
   "cell_type": "code",
   "execution_count": 3,
   "metadata": {},
   "outputs": [],
   "source": [
    "import math\n",
    "import random\n",
    "import copy"
   ]
  },
  {
   "cell_type": "markdown",
   "metadata": {},
   "source": [
    "### Inicialização dos centróides"
   ]
  },
  {
   "cell_type": "code",
   "execution_count": 4,
   "metadata": {},
   "outputs": [],
   "source": [
    "def init_centroids(points, k):\n",
    "    aux_points = copy.deepcopy(points)\n",
    "    centroids = [0]*k\n",
    "    centroid_0 = random.choice(aux_points)\n",
    "    centroids[0] = centroid_0\n",
    "    aux_points.remove(centroid_0)\n",
    "    for i in range (1, k):\n",
    "        dist = []\n",
    "        for j in range(0, len(aux_points)):\n",
    "                dist.append(math.sqrt(math.pow(aux_points[j][0] - centroid_0[0], 2) + math.pow(aux_points[j][1] - centroid_0[1], 2)))\n",
    "        max_dist = None\n",
    "        new_centroid = None\n",
    "        for index, value in enumerate(dist):\n",
    "            if max_dist == None:\n",
    "                max_dist = value\n",
    "                new_centroid = aux_points[index]\n",
    "            else:\n",
    "                if value > max_dist:\n",
    "                    max_dist = value\n",
    "                    new_centroid = aux_points[index]\n",
    "        centroids[i] = new_centroid\n",
    "        aux_points.remove(new_centroid)\n",
    "    return centroids"
   ]
  },
  {
   "cell_type": "markdown",
   "metadata": {},
   "source": [
    "### Atribuição dos pontos para os centróides mais próximos "
   ]
  },
  {
   "cell_type": "code",
   "execution_count": 5,
   "metadata": {},
   "outputs": [],
   "source": [
    "def assign_points(points, k, centroids):\n",
    "    clusters = {}\n",
    "    for point in points:\n",
    "        dist = []\n",
    "        for centroid in centroids:\n",
    "            dist.append(math.sqrt(math.pow(point[0] - centroid[0], 2) + math.pow(point[1] - centroid[1], 2)))\n",
    "        index = 0\n",
    "        min_dist = dist[0]\n",
    "        for i, d in enumerate(dist):\n",
    "            if d < min_dist:\n",
    "                min_dist = d\n",
    "                index = i\n",
    "        clusters.setdefault(index,[]).append(point)\n",
    "    return clusters"
   ]
  },
  {
   "cell_type": "markdown",
   "metadata": {},
   "source": [
    "### Atualização dos centróides"
   ]
  },
  {
   "cell_type": "code",
   "execution_count": 6,
   "metadata": {},
   "outputs": [],
   "source": [
    "def update_centroids(clusters):\n",
    "    means = [0]*len(clusters.keys())\n",
    "    for key, cluster in clusters.items():\n",
    "        mean_point = [0,0]\n",
    "        counter = 0\n",
    "\n",
    "        for point in cluster:\n",
    "            mean_point[0] += point[0]\n",
    "            mean_point[1] += point[1]\n",
    "            counter += 1\n",
    "        mean_point[0] = mean_point[0]/counter\n",
    "        mean_point[1] = mean_point[1]/counter\n",
    "        means[key] = mean_point\n",
    "    return means"
   ]
  },
  {
   "cell_type": "markdown",
   "metadata": {},
   "source": [
    "### Verificação de convergência"
   ]
  },
  {
   "cell_type": "code",
   "execution_count": 7,
   "metadata": {},
   "outputs": [],
   "source": [
    "def compare_centroids(centroids, old_centroids, threshold):\n",
    "    for i in range(len(centroids)):\n",
    "        new = centroids[i]\n",
    "        old = old_centroids[i]\n",
    "        if math.sqrt(math.pow(new[0] - old[0], 2) + math.pow(new[1] - old[1], 2)) > threshold:\n",
    "            return False\n",
    "    return True"
   ]
  },
  {
   "cell_type": "markdown",
   "metadata": {},
   "source": [
    "### Treinamento K-Means"
   ]
  },
  {
   "cell_type": "code",
   "execution_count": 8,
   "metadata": {},
   "outputs": [],
   "source": [
    "def k_means(points, k):\n",
    "    if len(points) < k:\n",
    "        return -1\n",
    "    centroids = init_centroids(points, k)\n",
    "    #print(centroids)\n",
    "    stop = False\n",
    "    while stop == False:\n",
    "        clusters = assign_points(points, k, centroids)\n",
    "        #print(clusters)\n",
    "        old_centroids = copy.deepcopy(centroids)\n",
    "        centroids = update_centroids(clusters)\n",
    "        #print(centroids)\n",
    "        stop = compare_centroids(centroids, old_centroids, 0.01)\n",
    "    return clusters"
   ]
  },
  {
   "cell_type": "markdown",
   "metadata": {},
   "source": [
    "### Print dos clusters"
   ]
  },
  {
   "cell_type": "code",
   "execution_count": 9,
   "metadata": {},
   "outputs": [],
   "source": [
    "def print_clusters(clusters):\n",
    "    for key in range(0, len(clusters.keys())):\n",
    "        print(f'Points in cluster #{key + 1}')\n",
    "        for point in clusters.get(key):\n",
    "            print(f'Point ({point[0]},{point[1]})')"
   ]
  },
  {
   "cell_type": "markdown",
   "metadata": {},
   "source": [
    "### Plot dos clusters"
   ]
  },
  {
   "cell_type": "code",
   "execution_count": 10,
   "metadata": {},
   "outputs": [],
   "source": [
    "def plot_clusters(clusters):\n",
    "    fig = plt.figure()\n",
    "    ax = fig.add_subplot(111)\n",
    "    markers = ['o', 'd', 'x', 'h', 'H', 7, 4, 5, 6, '8', 'p', ',', '+', '.', 's', '*', 3, 0, 1, 2]\n",
    "    colors = ['r', 'k', 'b', 'c', 'm', 'g', 'y', [0,1,1], [1,0,0], [1,0,1], [1,1,0]]\n",
    "    cnt = 0\n",
    "    for cluster in clusters.values():\n",
    "        x = []\n",
    "        y = []\n",
    "        for point in cluster:\n",
    "            x.append(point[0])\n",
    "            y.append(point[1])\n",
    "        ax.scatter(x, y, s = 60, c = colors[cnt], marker = markers[cnt])\n",
    "        cnt += 1\n",
    "    plt.title('Clusters')\n",
    "    plt.xlabel('x')\n",
    "    plt.ylabel('y')\n",
    "    plt.show()"
   ]
  },
  {
   "cell_type": "markdown",
   "metadata": {},
   "source": [
    "### Main()"
   ]
  },
  {
   "cell_type": "code",
   "execution_count": 11,
   "metadata": {},
   "outputs": [
    {
     "name": "stdout",
     "output_type": "stream",
     "text": [
      "Points in cluster #1\n",
      "Point (1.0,2.0)\n",
      "Point (2.0,1.0)\n",
      "Point (1.0,1.0)\n",
      "Point (2.0,2.0)\n",
      "Points in cluster #2\n",
      "Point (1.0,15.0)\n",
      "Point (2.0,15.0)\n",
      "Point (1.0,14.0)\n",
      "Point (2.0,14.0)\n",
      "Points in cluster #3\n",
      "Point (8.0,9.0)\n",
      "Point (9.0,8.0)\n",
      "Point (9.0,9.0)\n",
      "Point (8.0,8.0)\n"
     ]
    },
    {
     "data": {
      "image/png": "[encoded data removed]",
      "text/plain": [
       "<Figure size 432x288 with 1 Axes>"
      ]
     },
     "metadata": {
      "needs_background": "light"
     },
     "output_type": "display_data"
    }
   ],
   "source": [
    "points = []\n",
    "f = open('data.csv', 'r')\n",
    "data = f.read()\n",
    "rows = data.strip().split('\\n')\n",
    "for row in rows:\n",
    "    split_row = row.split(',')\n",
    "    points.append(split_row)\n",
    "for point in points:\n",
    "    point[0] = float(point[0].strip())\n",
    "    point[1] = float(point[1].strip())\n",
    "\n",
    "# Rodando o algoritmo K-Means\n",
    "clusters = k_means(points, 3)\n",
    "print_clusters(clusters)\n",
    "plot_clusters(clusters)"
   ]
  },
  {
   "cell_type": "code",
   "execution_count": null,
   "metadata": {},
   "outputs": [],
   "source": []
  }
 ],
 "metadata": {
  "kernelspec": {
   "display_name": "Python 3",
   "language": "python",
   "name": "python3"
  },
  "language_info": {
   "codemirror_mode": {
    "name": "ipython",
    "version": 3
   },
   "file_extension": ".py",
   "mimetype": "text/x-python",
   "name": "python",
   "nbconvert_exporter": "python",
   "pygments_lexer": "ipython3",
   "version": "3.6.5"
  }
 },
 "nbformat": 4,
 "nbformat_minor": 4
}
